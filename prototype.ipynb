{
 "cells": [
  {
   "cell_type": "code",
   "execution_count": 14,
   "metadata": {},
   "outputs": [],
   "source": [
    "DISPLAY_SIZE = (16, 16)"
   ]
  },
  {
   "cell_type": "code",
   "execution_count": null,
   "metadata": {},
   "outputs": [],
   "source": [
    "from PIL import Image\n",
    "import numpy as np"
   ]
  },
  {
   "cell_type": "code",
   "execution_count": null,
   "metadata": {},
   "outputs": [
    {
     "name": "stdout",
     "output_type": "stream",
     "text": [
      "None (380, 367) RGB\n"
     ]
    }
   ],
   "source": [
    "im = Image.open(\"input.png\").convert('RGB')\n",
    "\n",
    "print(im.format, im.size, im.mode)\n",
    "#im.show()"
   ]
  },
  {
   "cell_type": "code",
   "execution_count": 31,
   "metadata": {},
   "outputs": [
    {
     "name": "stdout",
     "output_type": "stream",
     "text": [
      "None (16, 16) RGB\n"
     ]
    }
   ],
   "source": [
    "re_im = im.resize(DISPLAY_SIZE, resample=Image.Resampling.BOX)\n",
    "\n",
    "print(re_im.format, re_im.size, re_im.mode)\n",
    "\n",
    "#re_im.show()"
   ]
  },
  {
   "cell_type": "code",
   "execution_count": 32,
   "metadata": {},
   "outputs": [
    {
     "name": "stdout",
     "output_type": "stream",
     "text": [
      "None (16, 15) RGB\n"
     ]
    }
   ],
   "source": [
    "th_im = im.copy()\n",
    "th_im.thumbnail(DISPLAY_SIZE, resample=Image.Resampling.BOX)\n",
    "\n",
    "print(th_im.format, th_im.size, th_im.mode)\n",
    "\n",
    "#th_im.show()"
   ]
  },
  {
   "cell_type": "code",
   "execution_count": null,
   "metadata": {},
   "outputs": [],
   "source": [
    "\n"
   ]
  }
 ],
 "metadata": {
  "kernelspec": {
   "display_name": "img2led",
   "language": "python",
   "name": "python3"
  },
  "language_info": {
   "codemirror_mode": {
    "name": "ipython",
    "version": 3
   },
   "file_extension": ".py",
   "mimetype": "text/x-python",
   "name": "python",
   "nbconvert_exporter": "python",
   "pygments_lexer": "ipython3",
   "version": "3.13.1"
  }
 },
 "nbformat": 4,
 "nbformat_minor": 2
}
